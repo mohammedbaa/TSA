{
 "cells": [
  {
   "cell_type": "code",
   "execution_count": 1,
   "id": "fef4a41f",
   "metadata": {},
   "outputs": [],
   "source": [
    "import pickle \n",
    "import numpy as np \n",
    "import re\n",
    "import string as st\n",
    "import nltk"
   ]
  },
  {
   "cell_type": "code",
   "execution_count": 2,
   "id": "0d7828cb",
   "metadata": {},
   "outputs": [],
   "source": [
    "def clean_text(text):\n",
    "    a = [w.lower() for w in text if (w not in st.punctuation) and (w not in st.digits)]\n",
    "    return ''.join(a) \n",
    "\n",
    "def remove_stopword(text):\n",
    "    # Load stopwords from nltk\n",
    "    stopword = set(nltk.corpus.stopwords.words('english')) - {'not'}\n",
    "    # Remove stopwords from input text \n",
    "    a = [w for w in nltk.word_tokenize(text) if w not in stopword]\n",
    "    # Return string\n",
    "    return ' '.join(a)\n",
    "\n",
    "def stem_text(text):\n",
    "    # Create an instance of nltk.stem.PorterStemmer\n",
    "    stemmer = nltk.stem.PorterStemmer()\n",
    "    # Apply stemmer on each word in the given text\n",
    "    a = [stemmer.stem(w) for w in nltk.word_tokenize(text)]\n",
    "    # Return string\n",
    "    return ' '.join(a)\n",
    "\n",
    "def remove_pattern(input_txt, pattern):\n",
    "    r = re.findall(pattern, input_txt)\n",
    "    for i in r:\n",
    "        input_txt = re.sub(i, '', input_txt)\n",
    "        \n",
    "    return input_txt \n",
    "\n",
    "def remove_URL(text):\n",
    "    url = re.compile(r'https?://\\S+|www\\.\\S+')\n",
    "    return url.sub(r'', text)"
   ]
  },
  {
   "cell_type": "code",
   "execution_count": 7,
   "id": "aeeadab7",
   "metadata": {},
   "outputs": [],
   "source": [
    "def sentiment_Analysis(text):\n",
    "    preprocess = text.lower()\n",
    "    preprocess = remove_stopword(preprocess)\n",
    "    preprocess = stem_text(preprocess)\n",
    "    preprocess = remove_pattern(preprocess, \"@[\\w]*\")\n",
    "    preprocess = remove_URL(preprocess)\n",
    "    vecto = pickle.load(open('tdidf.pkl', 'rb'))\n",
    "    text_vect = vecto.transform([preprocess])\n",
    "    model = pickle.load(open('Twittersatmentanalysis.pkl', 'rb'))\n",
    "    pred = model.predict(text_vect)\n",
    "    return pred"
   ]
  },
  {
   "cell_type": "markdown",
   "id": "c8da1381",
   "metadata": {},
   "source": [
    "### Main"
   ]
  },
  {
   "cell_type": "code",
   "execution_count": null,
   "id": "1c38b01a",
   "metadata": {},
   "outputs": [],
   "source": [
    "user_input=input('Enter your statment :') \n",
    "print(\"This is my prediction of logistic reg =s\" ,sentiment_Analysis(user_input))"
   ]
  },
  {
   "cell_type": "code",
   "execution_count": null,
   "id": "bbdec182",
   "metadata": {},
   "outputs": [],
   "source": []
  }
 ],
 "metadata": {
  "kernelspec": {
   "display_name": "Python 3 (ipykernel)",
   "language": "python",
   "name": "python3"
  },
  "language_info": {
   "codemirror_mode": {
    "name": "ipython",
    "version": 3
   },
   "file_extension": ".py",
   "mimetype": "text/x-python",
   "name": "python",
   "nbconvert_exporter": "python",
   "pygments_lexer": "ipython3",
   "version": "3.9.12"
  }
 },
 "nbformat": 4,
 "nbformat_minor": 5
}
